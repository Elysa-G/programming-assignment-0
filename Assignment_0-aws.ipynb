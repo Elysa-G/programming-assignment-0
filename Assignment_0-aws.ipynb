{
  "nbformat": 4,
  "nbformat_minor": 0,
  "metadata": {
    "colab": {
      "name": "Assignment-0",
      "provenance": [],
      "collapsed_sections": [],
      "include_colab_link": true
    },
    "kernelspec": {
      "name": "python3",
      "display_name": "Python 3"
    },
    "language_info": {
      "name": "python"
    }
  },
  "cells": [
    {
      "cell_type": "markdown",
      "metadata": {
        "id": "view-in-github",
        "colab_type": "text"
      },
      "source": [
        "<a href=\"https://colab.research.google.com/github/Elysa-G/programming-assignment-0/blob/main/Assignment_0-aws.ipynb\" target=\"_parent\"><img src=\"https://colab.research.google.com/assets/colab-badge.svg\" alt=\"Open In Colab\"/></a>"
      ]
    },
    {
      "cell_type": "markdown",
      "source": [
        "In this assignment we are going to work with data that was downloaded using using the [yfinance](https://pypi.org/project/yfinance/) library. It containst daily closing prices of all symbols."
      ],
      "metadata": {
        "id": "XZ8EGoj3LAv2"
      }
    },
    {
      "cell_type": "code",
      "source": [
        "from multiprocessing   import Pool\n",
        "from tqdm import *\n",
        "import pandas as pd"
      ],
      "metadata": {
        "id": "Wh2tTkoMM6sg"
      },
      "execution_count": null,
      "outputs": []
    },
    {
      "cell_type": "code",
      "source": [
        "#Question 1: Explain what the code below is trying to do. Describe each step.\n",
        "data = pd.read_csv(\"http://www.nasdaqtrader.com/dynamic/SymDir/nasdaqtraded.txt\", sep='|')\n",
        "data_clean = data[data['Test Issue'] == 'N']\n",
        "symbols = set(data_clean['NASDAQ Symbol'].tolist())\n",
        "data = pd.read_csv(\"http://www.nasdaqtrader.com/dynamic/SymDir/otherlisted.txt\", sep='|')\n",
        "data_clean = data[data['Test Issue'] == 'N']\n",
        "symbols = set(data_clean['NASDAQ Symbol'].tolist())\n"
      ],
      "metadata": {
        "id": "5HN0Mhq4LFe2"
      },
      "execution_count": null,
      "outputs": []
    },
    {
      "cell_type": "code",
      "source": [
        "#Describe your answer below.\n",
        "#Answer 1: pd.read_csv reads in the data from the CSV file at the indicated URL, delimiting each data point by '|',\n",
        "#          data_clean is then a subset of all that data, specfically the data points where the value for Test Issue is N,\n",
        "#          and the final line first makes data_clean a list with all symbols in the NASDAQ column of the cleaned data subset.\n",
        "#          It then create a set of unique symbols, stored in symbols \\n\""
      ],
      "metadata": {
        "id": "MYY6pkbnMUvO"
      },
      "execution_count": null,
      "outputs": []
    },
    {
      "cell_type": "code",
      "source": [
        "!wget  -O stocks.parquet https://www.dropbox.com/s/gzpi950gfdz9dsk/stocks.parquet?dl=1 # lets download the data"
      ],
      "metadata": {
        "id": "5b3j282aZMIO"
      },
      "execution_count": null,
      "outputs": []
    },
    {
      "cell_type": "code",
      "source": [
        "!ls stock_closing_prices.parquet -l #downloaded file"
      ],
      "metadata": {
        "colab": {
          "base_uri": "https://localhost:8080/"
        },
        "id": "jPZoUqKNZhRX",
        "outputId": "d4db624b-acf2-4593-e081-fc52121de1da"
      },
      "execution_count": null,
      "outputs": [
        {
          "output_type": "stream",
          "name": "stdout",
          "text": [
            "-rw-r--r-- 1 root root 1011183 Jan 20 02:52 stock_closing_prices.parquet\n"
          ]
        }
      ]
    },
    {
      "cell_type": "code",
      "source": [
        "#Bonus question 1 - find on internet and write the command that will download the all data from the symbols list. "
      ],
      "metadata": {
        "id": "m9ZaZDOgNxhF"
      },
      "execution_count": null,
      "outputs": []
    },
    {
      "cell_type": "code",
      "source": [
        "import pandas as pd\n",
        "data = pd.read_csv(\"http://www.nasdaqtrader.com/dynamic/SymDir/otherlisted.txt\", sep='|')\n",
        "data_clean = data[data['Test Issue'] == 'N']\n",
        "symbols = set(data_clean['NASDAQ Symbol'].tolist())\n",
        "ds = pd.DataFrame(symbols)\n",
        "ds.to_csv('bonusq.csv', sep='\\t')"
      ],
      "metadata": {
        "id": "F6WtSD64S66X"
      },
      "execution_count": null,
      "outputs": []
    },
    {
      "cell_type": "code",
      "source": [
        "data=pd.read_parquet('stocks.parquet')"
      ],
      "metadata": {
        "id": "AldxdSqFZ1mC"
      },
      "execution_count": null,
      "outputs": []
    },
    {
      "cell_type": "code",
      "source": [
        "data.head(1) # Below shows a sample of the data.\n",
        "#date - describes the day of the price\n",
        "#open - the price at which stock opened\n",
        "#high - what was the intraday high\n",
        "#low - what is the intraday low\n",
        "#close - what was the closing price\n",
        "#adj_close - the price calculated after adjusting for all future stock splits\n",
        "#dividends - what are the dividends that were paid on the day.\n",
        "#stock_splits - if the stock was split\n",
        "#symbol the symbol of the stock\n"
      ],
      "metadata": {
        "colab": {
          "base_uri": "https://localhost:8080/",
          "height": 81
        },
        "id": "JLriTcuObF3k",
        "outputId": "34610db5-e851-4106-c1f8-7f2b0ea61ca6"
      },
      "execution_count": null,
      "outputs": [
        {
          "output_type": "execute_result",
          "data": {
            "text/html": [
              "\n",
              "  <div id=\"df-94fed28e-fe0a-4e85-b135-3ca5c6aa7a48\">\n",
              "    <div class=\"colab-df-container\">\n",
              "      <div>\n",
              "<style scoped>\n",
              "    .dataframe tbody tr th:only-of-type {\n",
              "        vertical-align: middle;\n",
              "    }\n",
              "\n",
              "    .dataframe tbody tr th {\n",
              "        vertical-align: top;\n",
              "    }\n",
              "\n",
              "    .dataframe thead th {\n",
              "        text-align: right;\n",
              "    }\n",
              "</style>\n",
              "<table border=\"1\" class=\"dataframe\">\n",
              "  <thead>\n",
              "    <tr style=\"text-align: right;\">\n",
              "      <th></th>\n",
              "      <th>date</th>\n",
              "      <th>open</th>\n",
              "      <th>high</th>\n",
              "      <th>low</th>\n",
              "      <th>close</th>\n",
              "      <th>adj_close</th>\n",
              "      <th>volume</th>\n",
              "      <th>dividends</th>\n",
              "      <th>stock_splits</th>\n",
              "      <th>symbol</th>\n",
              "      <th>day</th>\n",
              "      <th>year</th>\n",
              "      <th>month</th>\n",
              "      <th>dayofweek</th>\n",
              "    </tr>\n",
              "  </thead>\n",
              "  <tbody>\n",
              "    <tr>\n",
              "      <th>0</th>\n",
              "      <td>1962-01-02</td>\n",
              "      <td>0.131273</td>\n",
              "      <td>0.131273</td>\n",
              "      <td>0.124177</td>\n",
              "      <td>0.124177</td>\n",
              "      <td>0.045278</td>\n",
              "      <td>2480333.0</td>\n",
              "      <td>0.0</td>\n",
              "      <td>0.0</td>\n",
              "      <td>HPQ</td>\n",
              "      <td>2</td>\n",
              "      <td>1962</td>\n",
              "      <td>1</td>\n",
              "      <td>Tuesday</td>\n",
              "    </tr>\n",
              "  </tbody>\n",
              "</table>\n",
              "</div>\n",
              "      <button class=\"colab-df-convert\" onclick=\"convertToInteractive('df-94fed28e-fe0a-4e85-b135-3ca5c6aa7a48')\"\n",
              "              title=\"Convert this dataframe to an interactive table.\"\n",
              "              style=\"display:none;\">\n",
              "        \n",
              "  <svg xmlns=\"http://www.w3.org/2000/svg\" height=\"24px\"viewBox=\"0 0 24 24\"\n",
              "       width=\"24px\">\n",
              "    <path d=\"M0 0h24v24H0V0z\" fill=\"none\"/>\n",
              "    <path d=\"M18.56 5.44l.94 2.06.94-2.06 2.06-.94-2.06-.94-.94-2.06-.94 2.06-2.06.94zm-11 1L8.5 8.5l.94-2.06 2.06-.94-2.06-.94L8.5 2.5l-.94 2.06-2.06.94zm10 10l.94 2.06.94-2.06 2.06-.94-2.06-.94-.94-2.06-.94 2.06-2.06.94z\"/><path d=\"M17.41 7.96l-1.37-1.37c-.4-.4-.92-.59-1.43-.59-.52 0-1.04.2-1.43.59L10.3 9.45l-7.72 7.72c-.78.78-.78 2.05 0 2.83L4 21.41c.39.39.9.59 1.41.59.51 0 1.02-.2 1.41-.59l7.78-7.78 2.81-2.81c.8-.78.8-2.07 0-2.86zM5.41 20L4 18.59l7.72-7.72 1.47 1.35L5.41 20z\"/>\n",
              "  </svg>\n",
              "      </button>\n",
              "      \n",
              "  <style>\n",
              "    .colab-df-container {\n",
              "      display:flex;\n",
              "      flex-wrap:wrap;\n",
              "      gap: 12px;\n",
              "    }\n",
              "\n",
              "    .colab-df-convert {\n",
              "      background-color: #E8F0FE;\n",
              "      border: none;\n",
              "      border-radius: 50%;\n",
              "      cursor: pointer;\n",
              "      display: none;\n",
              "      fill: #1967D2;\n",
              "      height: 32px;\n",
              "      padding: 0 0 0 0;\n",
              "      width: 32px;\n",
              "    }\n",
              "\n",
              "    .colab-df-convert:hover {\n",
              "      background-color: #E2EBFA;\n",
              "      box-shadow: 0px 1px 2px rgba(60, 64, 67, 0.3), 0px 1px 3px 1px rgba(60, 64, 67, 0.15);\n",
              "      fill: #174EA6;\n",
              "    }\n",
              "\n",
              "    [theme=dark] .colab-df-convert {\n",
              "      background-color: #3B4455;\n",
              "      fill: #D2E3FC;\n",
              "    }\n",
              "\n",
              "    [theme=dark] .colab-df-convert:hover {\n",
              "      background-color: #434B5C;\n",
              "      box-shadow: 0px 1px 3px 1px rgba(0, 0, 0, 0.15);\n",
              "      filter: drop-shadow(0px 1px 2px rgba(0, 0, 0, 0.3));\n",
              "      fill: #FFFFFF;\n",
              "    }\n",
              "  </style>\n",
              "\n",
              "      <script>\n",
              "        const buttonEl =\n",
              "          document.querySelector('#df-94fed28e-fe0a-4e85-b135-3ca5c6aa7a48 button.colab-df-convert');\n",
              "        buttonEl.style.display =\n",
              "          google.colab.kernel.accessAllowed ? 'block' : 'none';\n",
              "\n",
              "        async function convertToInteractive(key) {\n",
              "          const element = document.querySelector('#df-94fed28e-fe0a-4e85-b135-3ca5c6aa7a48');\n",
              "          const dataTable =\n",
              "            await google.colab.kernel.invokeFunction('convertToInteractive',\n",
              "                                                     [key], {});\n",
              "          if (!dataTable) return;\n",
              "\n",
              "          const docLinkHtml = 'Like what you see? Visit the ' +\n",
              "            '<a target=\"_blank\" href=https://colab.research.google.com/notebooks/data_table.ipynb>data table notebook</a>'\n",
              "            + ' to learn more about interactive tables.';\n",
              "          element.innerHTML = '';\n",
              "          dataTable['output_type'] = 'display_data';\n",
              "          await google.colab.output.renderOutput(dataTable, element);\n",
              "          const docLink = document.createElement('div');\n",
              "          docLink.innerHTML = docLinkHtml;\n",
              "          element.appendChild(docLink);\n",
              "        }\n",
              "      </script>\n",
              "    </div>\n",
              "  </div>\n",
              "  "
            ],
            "text/plain": [
              "         date      open      high       low  ...  day  year  month  dayofweek\n",
              "0  1962-01-02  0.131273  0.131273  0.124177  ...    2  1962      1    Tuesday\n",
              "\n",
              "[1 rows x 14 columns]"
            ]
          },
          "metadata": {},
          "execution_count": 13
        }
      ]
    },
    {
      "cell_type": "code",
      "source": [
        "# Question 2 find top 20 best performer stocks - i.e. the stocks that provided the best return.\n",
        "# if the stocks adj_close on the earliest date was X and the adj_close on the 2021-01-01 is y and the number of days elapsed between these dates is Z.\n",
        "# Then return = Y/X/Z\n",
        "# Sort the stocks by this return and find the top 20"
      ],
      "metadata": {
        "id": "c3vJMi_8bAwC"
      },
      "execution_count": null,
      "outputs": []
    },
    {
      "cell_type": "code",
      "source": [
        "import pandas as pd\n",
        "\n",
        "!wget  -O stocks.parquet https://www.dropbox.com/s/gzpi950gfdz9dsk/stocks.parquet?dl=1 # lets download the data\n",
        "data=pd.read_parquet('stocks.parquet', columns=['date','adj_close','symbol'])\n",
        "data['date']=pd.to_datetime(data['date'])\n",
        "symboldates=data.groupby('symbol',as_index=False).agg(date_min=pd.NamedAgg(column=\"date\", aggfunc=\"min\"),date_max=pd.NamedAgg(column=\"date\", aggfunc=\"max\"))\n",
        "df=symboldates.merge(data.rename(columns={'adj_close':'start_adj_close'}), left_on=['symbol','date_min'],right_on=['symbol','date']).drop('date', axis=1)\n",
        "df=df.merge(data.rename(columns={'adj_close':'end_adj_close'}),left_on=['symbol','date_max'],right_on=['symbol','date']).drop('date', axis=1)\n",
        "\n",
        "df['num_days']= (df.date_max-df.date_min).dt.days\n",
        "df['return'] = df.apply(lambda row: None if row.start_adj_close ==0 or row.num_days==0 else row.end_adj_close/row.start_adj_close/row.num_days, axis =1)\n",
        "df=df.sort_values('return', ascending=False)\n",
        "df=df.head(20)\n",
        "df"
      ],
      "metadata": {
        "colab": {
          "base_uri": "https://localhost:8080/",
          "height": 201
        },
        "id": "JEROAQFGTJx7",
        "outputId": "b6cf027e-8e17-49b8-cc15-4498cc94a493"
      },
      "execution_count": 1,
      "outputs": [
        {
          "output_type": "error",
          "ename": "ModuleNotFoundError",
          "evalue": "ignored",
          "traceback": [
            "\u001b[0;31m---------------------------------------------------------------------------\u001b[0m",
            "\u001b[0;31mModuleNotFoundError\u001b[0m                       Traceback (most recent call last)",
            "Input \u001b[0;32mIn [1]\u001b[0m, in \u001b[0;36m<module>\u001b[0;34m\u001b[0m\n\u001b[0;32m----> 1\u001b[0m \u001b[38;5;28;01mimport\u001b[39;00m \u001b[38;5;21;01mpandas\u001b[39;00m \u001b[38;5;28;01mas\u001b[39;00m \u001b[38;5;21;01mpd\u001b[39;00m\n\u001b[1;32m      3\u001b[0m get_ipython()\u001b[38;5;241m.\u001b[39msystem(\u001b[38;5;124m'\u001b[39m\u001b[38;5;124mwget  -O stocks.parquet https://www.dropbox.com/s/gzpi950gfdz9dsk/stocks.parquet?dl=1 # lets download the data\u001b[39m\u001b[38;5;124m'\u001b[39m)\n\u001b[1;32m      4\u001b[0m data\u001b[38;5;241m=\u001b[39mpd\u001b[38;5;241m.\u001b[39mread_parquet(\u001b[38;5;124m'\u001b[39m\u001b[38;5;124mstocks.parquet\u001b[39m\u001b[38;5;124m'\u001b[39m, columns\u001b[38;5;241m=\u001b[39m[\u001b[38;5;124m'\u001b[39m\u001b[38;5;124mdate\u001b[39m\u001b[38;5;124m'\u001b[39m,\u001b[38;5;124m'\u001b[39m\u001b[38;5;124madj_close\u001b[39m\u001b[38;5;124m'\u001b[39m,\u001b[38;5;124m'\u001b[39m\u001b[38;5;124msymbol\u001b[39m\u001b[38;5;124m'\u001b[39m])\n",
            "\u001b[0;31mModuleNotFoundError\u001b[0m: No module named 'pandas'"
          ]
        }
      ]
    },
    {
      "cell_type": "code",
      "source": [
        "#Question 3: Create a copy of this notebook called assignment-aws and follow the instructions in readme to run the notebook on AWS compute instance.\n",
        "# Compare performance of running natively on colab and colab+AWS"
      ],
      "metadata": {
        "id": "c1jLuH32dDhR"
      },
      "execution_count": null,
      "outputs": []
    }
  ]
}